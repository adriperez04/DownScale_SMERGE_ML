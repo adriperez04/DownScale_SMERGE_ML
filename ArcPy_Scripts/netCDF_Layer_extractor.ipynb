{
 "cells": [
  {
   "cell_type": "code",
   "execution_count": 1,
   "id": "fa076412",
   "metadata": {},
   "outputs": [],
   "source": [
    "import os\n",
    "import arcpy\n",
    "import fnmatch\n",
    "\n",
    "def find_files(directory, extension):\n",
    "    matches = []\n",
    "    file_n = []\n",
    "    for root, dirnames, filenames in os.walk(directory):\n",
    "        for filename in fnmatch.filter(filenames, f'*.{extension}'):\n",
    "            matches.append(os.path.join(root, filename))\n",
    "            file_n.append(filename)\n",
    "    return matches, file_n"
   ]
  },
  {
   "cell_type": "code",
   "execution_count": 8,
   "id": "7553d127",
   "metadata": {},
   "outputs": [],
   "source": [
    "# Set up the environment\n",
    "arcpy.env.parallelProcessingFactor = 0\n",
    "arcpy.CheckOutExtension(\"Spatial\")\n",
    "arcpy.env.matchMultidimensionalVariable = False\n",
    "arcpy.env.overwriteOutput = True"
   ]
  },
  {
   "cell_type": "code",
   "execution_count": 9,
   "id": "9674590b",
   "metadata": {},
   "outputs": [
    {
     "name": "stdout",
     "output_type": "stream",
     "text": [
      "Please input parent direcory: E:\\share\\Copernicus_NDVI\\M0204242\n",
      "Please input exention if file: nc\n",
      "Please output parent direcory: E:\\share\\Copernicus_NDVI\\M0204242_Layers\n",
      "Please enter variable for extraction: NDVI\n",
      "E:\\share\\Copernicus_NDVI\\M0204242_Layers\\netCDF_Layer_extractor.gdb\n"
     ]
    }
   ],
   "source": [
    "# Example usage:\n",
    "# Replace 'your_directory' with the path to the directory you want to search\n",
    "# Replace 'txt' with the file extension you're looking for\n",
    "input_dir = input('Please input parent direcory: ')\n",
    "file_ex = input('Please input exention if file: ')\n",
    "output_dir = input('Please output parent direcory: ')\n",
    "var = input('Please enter variable for extraction: ')\n",
    "geodatabase_path = os.path.join(output_dir, 'netCDF_Layer_extractor.gdb')\n",
    "if os.path.exists(geodatabase_path):\n",
    "    print(geodatabase_path)\n",
    "else:\n",
    "    arcpy.CreateFileGDB_management(output_dir, 'netCDF_Layer_extractor')\n",
    "# Set the geodatabase as the workspace\n",
    "arcpy.env.workspace = geodatabase_path"
   ]
  },
  {
   "cell_type": "code",
   "execution_count": 14,
   "id": "ad91c750",
   "metadata": {},
   "outputs": [
    {
     "name": "stdout",
     "output_type": "stream",
     "text": [
      "E:\\share\\Copernicus_NDVI\\M0204242_Layers\\c_gls_NDVI300_20160101_GLOBE_PROBAV_V1_0_1.crf\n",
      "E:\\share\\Copernicus_NDVI\\M0204242_Layers\\c_gls_NDVI300_20160111_GLOBE_PROBAV_V1_0_1.crf\n",
      "E:\\share\\Copernicus_NDVI\\M0204242_Layers\\c_gls_NDVI300_20160121_GLOBE_PROBAV_V1_0_1.crf\n",
      "E:\\share\\Copernicus_NDVI\\M0204242_Layers\\c_gls_NDVI300_20160201_GLOBE_PROBAV_V1_0_1.crf\n"
     ]
    }
   ],
   "source": [
    "files, file_ns= find_files(input_dir, file_ex)\n",
    "XDimension = \"lon\"\n",
    "YDimension = \"lat\"\n",
    "i = 0\n",
    "for file_path in files:\n",
    "    if i <= 3:\n",
    "        f_name = os.path.join(output_dir,file_ns[i].replace('.nc', '.crf').replace('0000', '').replace('_V1.0.1','_V1_0_1'))\n",
    "        print(f_name)\n",
    "        #arcpy.md.MakeNetCDFRasterLayer(file_path, var, XDimension, YDimension, f_name)\n",
    "        arcpy.md.MakeMultidimensionalRasterLayer(\n",
    "            in_multidimensional_raster=file_path,\n",
    "            out_multidimensional_raster_layer=f_name,\n",
    "            variables=var,\n",
    "            dimension_def=\"ALL\",\n",
    "            dimension_ranges=None,\n",
    "            dimension_values=None,\n",
    "            dimension=\"\",\n",
    "            start_of_first_iteration=\"\",\n",
    "            end_of_first_iteration=\"\",\n",
    "            iteration_step=None,\n",
    "            iteration_unit=\"\",\n",
    "            template='-180.001488095238 -59.9985119047301 179.99851190468 80.0014880952381 GEOGCS[\"GCS_WGS_1984\",DATUM[\"D_WGS_1984\",SPHEROID[\"WGS_1984\",6378137.0,298.257223563]],PRIMEM[\"Greenwich\",0.0],UNIT[\"Degree\",0.0174532925199433]]',\n",
    "            dimensionless=\"DIMENSIONS\",\n",
    "            spatial_reference=None\n",
    ")\n",
    "    i = i + 1"
   ]
  },
  {
   "cell_type": "code",
   "execution_count": 15,
   "id": "52812fb9",
   "metadata": {},
   "outputs": [
    {
     "name": "stdout",
     "output_type": "stream",
     "text": [
      "E:\\share\\Copernicus_NDVI\\M0204242\\NDVI300_201912210000_GLOBE_PROBAV_V1.0.1\\c_gls_NDVI300_201912210000_GLOBE_PROBAV_V1.0.1.nc\n"
     ]
    }
   ],
   "source": [
    "print(file_path)"
   ]
  },
  {
   "cell_type": "code",
   "execution_count": 17,
   "id": "733b45f8",
   "metadata": {},
   "outputs": [
    {
     "data": {
      "text/html": [
       "<div class='gpresult'><h2>Messages</h2><div id='messages' data-messages='[\"Start Time: Thursday, November 9, 2023 11:01:19 AM\",\"Succeeded at Thursday, November 9, 2023 11:01:19 AM (Elapsed Time: 0.52 seconds)\"]' data-show='true'><div id = 'default' /></div></div>"
      ],
      "text/plain": [
       "<Result 'E:\\\\share\\\\Copernicus_NDVI\\\\M0204242_Layers\\\\c_gls_NDVI300_20160501.crf'>"
      ]
     },
     "execution_count": 17,
     "metadata": {},
     "output_type": "execute_result"
    }
   ],
   "source": [
    "arcpy.md.MakeMultidimensionalRasterLayer(\n",
    "    in_multidimensional_raster=r\"E:\\share\\Copernicus_NDVI\\M0204242\\NDVI300_201605010000_GLOBE_PROBAV_V1.0.1\\c_gls_NDVI300_201605010000_GLOBE_PROBAV_V1.0.1.nc\",\n",
    "    out_multidimensional_raster_layer=r\"E:\\share\\Copernicus_NDVI\\M0204242_Layers\\c_gls_NDVI300_20160501.crf\",\n",
    "    variables=\"NDVI\",\n",
    "    dimension_def=\"ALL\",\n",
    "    dimension_ranges=None,\n",
    "    dimension_values=None,\n",
    "    dimension=\"\",\n",
    "    start_of_first_iteration=\"\",\n",
    "    end_of_first_iteration=\"\",\n",
    "    iteration_step=None,\n",
    "    iteration_unit=\"\",\n",
    "    template='-180.001488095238 -59.9985119047301 179.99851190468 80.0014880952381 GEOGCS[\"GCS_WGS_1984\",DATUM[\"D_WGS_1984\",SPHEROID[\"WGS_1984\",6378137.0,298.257223563]],PRIMEM[\"Greenwich\",0.0],UNIT[\"Degree\",0.0174532925199433]]',\n",
    "    dimensionless=\"DIMENSIONS\",\n",
    "    spatial_reference=None\n",
    ")"
   ]
  },
  {
   "cell_type": "code",
   "execution_count": null,
   "id": "e137a71d",
   "metadata": {},
   "outputs": [],
   "source": []
  }
 ],
 "metadata": {
  "kernelspec": {
   "display_name": "Python 3 (ipykernel)",
   "language": "python",
   "name": "python3"
  },
  "language_info": {
   "codemirror_mode": {
    "name": "ipython",
    "version": 3
   },
   "file_extension": ".py",
   "mimetype": "text/x-python",
   "name": "python",
   "nbconvert_exporter": "python",
   "pygments_lexer": "ipython3",
   "version": "3.9.16"
  }
 },
 "nbformat": 4,
 "nbformat_minor": 5
}

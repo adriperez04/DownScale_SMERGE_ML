{
 "cells": [
  {
   "cell_type": "code",
   "execution_count": 2,
   "id": "d779421c",
   "metadata": {},
   "outputs": [],
   "source": [
    "import os, sys, arcpy"
   ]
  },
  {
   "cell_type": "code",
   "execution_count": null,
   "id": "06445c18",
   "metadata": {},
   "outputs": [],
   "source": [
    "raster_path = input(\"Enter the full file path of the template point shape file: \")\n",
    "raster_name = input(\"Enter the name of the template point shape file: \")\n",
    "raster_file = os.path.join(raster_path, raster_name)"
   ]
  },
  {
   "cell_type": "code",
   "execution_count": 11,
   "id": "de881a1e",
   "metadata": {},
   "outputs": [],
   "source": [
    "# get a list of the bands that make up the raster\n",
    "arcpy.env.workspace = raster_file\n",
    "bRng = arcpy.ListRasters()\n",
    "\n",
    "for ThisBnd in bRng:\n",
    "    # loop through the bands and export each one with CopyRaster\n",
    "    InBand  = os.path.join(raster_file,ThisBnd)#'{}\\\\{}'.format(raster_file,ThisBnd)\n",
    "    bndDesc = arcpy.Describe(InBand)\n",
    "    NoData  = bndDesc.noDataValue \n",
    "    InSplit = os.path.splitext(raster_file) # split the image name and extension\n",
    "    # output file name is c:\\\\some\\\\path\\\\raster_Band_X.ext\n",
    "    OutRas  = '{}_{}{}'.format(InSplit[0],ThisBnd,InSplit[1])\n",
    "    arcpy.CopyRaster_management(InBand,OutRas,nodata_value = NoData)"
   ]
  },
  {
   "cell_type": "code",
   "execution_count": null,
   "id": "de95a205",
   "metadata": {},
   "outputs": [],
   "source": []
  }
 ],
 "metadata": {
  "kernelspec": {
   "display_name": "Python 3 (ipykernel)",
   "language": "python",
   "name": "python3"
  },
  "language_info": {
   "codemirror_mode": {
    "name": "ipython",
    "version": 3
   },
   "file_extension": ".py",
   "mimetype": "text/x-python",
   "name": "python",
   "nbconvert_exporter": "python",
   "pygments_lexer": "ipython3",
   "version": "3.9.16"
  }
 },
 "nbformat": 4,
 "nbformat_minor": 5
}
